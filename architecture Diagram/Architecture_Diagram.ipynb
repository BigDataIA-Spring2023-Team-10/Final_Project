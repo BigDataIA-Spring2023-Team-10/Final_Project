{
  "nbformat": 4,
  "nbformat_minor": 0,
  "metadata": {
    "colab": {
      "provenance": []
    },
    "kernelspec": {
      "name": "python3",
      "display_name": "Python 3"
    },
    "language_info": {
      "name": "python"
    }
  },
  "cells": [
    {
      "cell_type": "code",
      "execution_count": 4,
      "metadata": {
        "id": "Jz1uSY1_wHDd"
      },
      "outputs": [],
      "source": [
        "#Architecture diagram\n",
        "\n",
        "\n",
        "from diagrams import Diagram\n",
        "from diagrams import Cluster, Edge, Node\n",
        "from diagrams.onprem.client import Users\n",
        "from diagrams.onprem.container import Docker\n",
        "from diagrams.onprem.workflow import Airflow\n",
        "from diagrams.gcp.analytics import Composer\n",
        "from diagrams.onprem.client import Client\n",
        "from diagrams.gcp.database import SQL\n",
        "from diagrams.azure.web import AppServiceDomains\n",
        "from diagrams.azure.web import APIConnections\n",
        "from diagrams.gcp.storage import Storage\n",
        "from diagrams.programming.framework import Fastapi\n",
        "from diagrams.gcp.compute import AppEngine\n",
        "from diagrams.programming.language import Bash\n",
        "\n",
        "\n",
        "\n",
        "\n",
        "with Diagram(\"Architecture Diagram\", show=False):\n",
        "    ingress = Users(\"Users\")\n",
        "    with Cluster(\"Application\"):\n",
        "      with Cluster(\"Streamlit cloud\"):\n",
        "        streamlit = AppServiceDomains(\"Streamlit Cloud \")\n",
        "      with Cluster(\"FastAPI GCP AppEngine\"):\n",
        "        fastapi= AppEngine(\"Fastapi\")\n",
        "      with Cluster(\"Google SQL\"):\n",
        "        db = SQL(\"SQL\")\n",
        "      with Cluster(\"OpenAI Services\"):\n",
        "        openai=APIConnections(\"OpenAI API\")\n",
        "      with Cluster(\"Cloud Storage\"):\n",
        "        storage = Storage(\"GCS\")\n",
        "      with Diagram(\"Pinecone\"):\n",
        "        pineconedb=Bash(\"Pinecone DB\")\n",
        "  \n",
        "    \n",
        "    streamlit << Edge(label=\"Website\") << ingress\n",
        "    fastapi << Edge(label=\"Data Fetch\") << db\n",
        "    db << Edge(label=\"Data Fetch\") << fastapi\n",
        "    fastapi << Edge(label=\"Data Upload\") << storage\n",
        "    storage << Edge(label=\"Data Fetch\") << fastapi\n",
        "    streamlit << Edge(label=\"API Calls Response\") << fastapi\n",
        "    fastapi << Edge(label=\"API Calls to backend\") << streamlit\n",
        "    fastapi << Edge(label=\"API Call to ChatGPT\") << openai  \n",
        "    openai << Edge(label=\"API Calls Response\") << fastapi  \n",
        "    pineconedb << Edge(label=\"Embeddings\") << openai \n",
        "    openai << Edge(label=\"Query\") << pineconedb"
      ]
    }
  ]
}