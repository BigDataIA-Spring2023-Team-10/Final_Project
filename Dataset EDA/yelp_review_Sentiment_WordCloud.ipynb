{
  "cells": [
    {
      "cell_type": "code",
      "execution_count": null,
      "id": "c1df852f",
      "metadata": {
        "id": "c1df852f"
      },
      "outputs": [],
      "source": [
        "## Adding neccesaary Libraries\n",
        "from transformers import pipeline\n",
        "import pandas as pd\n",
        "import openai\n",
        "API_KEY = '' #Add OpenAI Api Key\n",
        "openai.api_key = API_KEY\n",
        "model_id = 'gpt-3.5-turbo'"
      ]
    },
    {
      "cell_type": "markdown",
      "source": [
        "#Importing Hugging face Pipeline for Sentiment Analysis"
      ],
      "metadata": {
        "id": "TYm53cX6ftW6"
      },
      "id": "TYm53cX6ftW6"
    },
    {
      "cell_type": "code",
      "execution_count": null,
      "id": "cf7d8ec1",
      "metadata": {
        "id": "cf7d8ec1"
      },
      "outputs": [],
      "source": [
        "sentiment_analysis = pipeline(\"sentiment-analysis\",model=\"siebert/sentiment-roberta-large-english\")"
      ]
    },
    {
      "cell_type": "markdown",
      "source": [
        "#Importing the yelp Review Scrapped File"
      ],
      "metadata": {
        "id": "wEmFMUb_gKqx"
      },
      "id": "wEmFMUb_gKqx"
    },
    {
      "cell_type": "code",
      "execution_count": null,
      "id": "f26ba5f2",
      "metadata": {
        "id": "f26ba5f2",
        "outputId": "524dc0e5-115e-4804-96eb-98e965a41d9e"
      },
      "outputs": [
        {
          "data": {
            "text/html": [
              "<div>\n",
              "<style scoped>\n",
              "    .dataframe tbody tr th:only-of-type {\n",
              "        vertical-align: middle;\n",
              "    }\n",
              "\n",
              "    .dataframe tbody tr th {\n",
              "        vertical-align: top;\n",
              "    }\n",
              "\n",
              "    .dataframe thead th {\n",
              "        text-align: right;\n",
              "    }\n",
              "</style>\n",
              "<table border=\"1\" class=\"dataframe\">\n",
              "  <thead>\n",
              "    <tr style=\"text-align: right;\">\n",
              "      <th></th>\n",
              "      <th>text</th>\n",
              "    </tr>\n",
              "  </thead>\n",
              "  <tbody>\n",
              "    <tr>\n",
              "      <th>0</th>\n",
              "      <td>If you decide to eat here, just be aware it is...</td>\n",
              "    </tr>\n",
              "    <tr>\n",
              "      <th>1</th>\n",
              "      <td>I've taken a lot of spin classes over the year...</td>\n",
              "    </tr>\n",
              "    <tr>\n",
              "      <th>2</th>\n",
              "      <td>Family diner. Had the buffet. Eclectic assortm...</td>\n",
              "    </tr>\n",
              "    <tr>\n",
              "      <th>3</th>\n",
              "      <td>Wow!  Yummy, different,  delicious.   Our favo...</td>\n",
              "    </tr>\n",
              "    <tr>\n",
              "      <th>4</th>\n",
              "      <td>Cute interior and owner (?) gave us tour of up...</td>\n",
              "    </tr>\n",
              "    <tr>\n",
              "      <th>5</th>\n",
              "      <td>I am a long term frequent customer of this est...</td>\n",
              "    </tr>\n",
              "    <tr>\n",
              "      <th>6</th>\n",
              "      <td>Loved this tour! I grabbed a groupon and the p...</td>\n",
              "    </tr>\n",
              "    <tr>\n",
              "      <th>7</th>\n",
              "      <td>Amazingly amazing wings and homemade bleu chee...</td>\n",
              "    </tr>\n",
              "    <tr>\n",
              "      <th>8</th>\n",
              "      <td>This easter instead of going to Lopez Lake we ...</td>\n",
              "    </tr>\n",
              "    <tr>\n",
              "      <th>9</th>\n",
              "      <td>Had a party of 6 here for hibachi. Our waitres...</td>\n",
              "    </tr>\n",
              "  </tbody>\n",
              "</table>\n",
              "</div>"
            ],
            "text/plain": [
              "                                                text\n",
              "0  If you decide to eat here, just be aware it is...\n",
              "1  I've taken a lot of spin classes over the year...\n",
              "2  Family diner. Had the buffet. Eclectic assortm...\n",
              "3  Wow!  Yummy, different,  delicious.   Our favo...\n",
              "4  Cute interior and owner (?) gave us tour of up...\n",
              "5  I am a long term frequent customer of this est...\n",
              "6  Loved this tour! I grabbed a groupon and the p...\n",
              "7  Amazingly amazing wings and homemade bleu chee...\n",
              "8  This easter instead of going to Lopez Lake we ...\n",
              "9  Had a party of 6 here for hibachi. Our waitres..."
            ]
          },
          "execution_count": 3,
          "metadata": {},
          "output_type": "execute_result"
        }
      ],
      "source": [
        "review = pd.read_csv('yelp_reviews.csv')\n",
        "top_10 = review.iloc[:10,1:]\n",
        "top_10"
      ]
    },
    {
      "cell_type": "markdown",
      "source": [
        "#Sentiment analysis and text summarization"
      ],
      "metadata": {
        "id": "iX1NL_K2gc2g"
      },
      "id": "iX1NL_K2gc2g"
    },
    {
      "cell_type": "code",
      "execution_count": null,
      "id": "8b29bfb0",
      "metadata": {
        "scrolled": false,
        "id": "8b29bfb0",
        "outputId": "9d7c3b64-856c-4b84-9539-43555aa14686"
      },
      "outputs": [
        {
          "name": "stdout",
          "output_type": "stream",
          "text": [
            "If you decide to eat here, just be aware it is going to take about 2 hours from beginning to end. We have tried it multiple times, because I want to like it! I have been to it's other locations in NJ and never had a bad experience. \n",
            "\n",
            "The food is good, but it takes a very long time to come out. The waitstaff is very young, but usually pleasant. We have just had too many experiences where we spent way too long waiting. We usually opt for another diner or restaurant on the weekends, in order to be done quicker.\n",
            "++++++++++++++++++++++++++++++++++\n",
            "[{'label': 'NEGATIVE', 'score': 0.9991219639778137}]\n",
            "GPT response:\n",
            "\n",
            "-------------------------------------------------\n",
            "I've taken a lot of spin classes over the years, and nothing compares to the classes at Body Cycle. From the nice, clean space and amazing bikes, to the welcoming and motivating instructors, every class is a top notch work out.\n",
            "\n",
            "For anyone who struggles to fit workouts in, the online scheduling system makes it easy to plan ahead (and there's no need to line up way in advanced like many gyms make you do).\n",
            "\n",
            "There is no way I can write this review without giving Russell, the owner of Body Cycle, a shout out. Russell's passion for fitness and cycling is so evident, as is his desire for all of his clients to succeed. He is always dropping in to classes to check in/provide encouragement, and is open to ideas and recommendations from anyone. Russell always wears a smile on his face, even when he's kicking your butt in class!\n",
            "++++++++++++++++++++++++++++++++++\n",
            "[{'label': 'POSITIVE', 'score': 0.9989392161369324}]\n",
            "GPT response:\n",
            "\n",
            "\n",
            "The reviewer has had a lot of experience with spin classes and says that Body Cycle is the best. They like the clean space, amazing bikes, and motivating instructors. The online scheduling system is also convenient. The reviewer gives a shoutout to\n",
            "-------------------------------------------------\n",
            "Family diner. Had the buffet. Eclectic assortment: a large chicken leg, fried jalapeño, tamale, two rolled grape leaves, fresh melon. All good. Lots of Mexican choices there. Also has a menu with breakfast served all day long. Friendly, attentive staff. Good place for a casual relaxed meal with no expectations. Next to the Clarion Hotel.\n",
            "++++++++++++++++++++++++++++++++++\n",
            "[{'label': 'POSITIVE', 'score': 0.9989185333251953}]\n",
            "GPT response:\n",
            "\n",
            "\n",
            "The family diner has a buffet with an eclectic assortment of food including a large chicken leg, fried jalapeño, tamale, two rolled grape leaves, and fresh melon. All of the food is good, and there are lots\n",
            "-------------------------------------------------\n",
            "Wow!  Yummy, different,  delicious.   Our favorite is the lamb curry and korma.  With 10 different kinds of naan!!!  Don't let the outside deter you (because we almost changed our minds)...go in and try something new!   You'll be glad you did!\n",
            "++++++++++++++++++++++++++++++++++\n",
            "[{'label': 'POSITIVE', 'score': 0.9989239573478699}]\n",
            "GPT response:\n",
            "\n",
            "\n",
            "The reviews are all positive, and recommend the lamb curry and korma, as well as the different types of naan bread. They also note that the restaurant may not look like much from the outside, but it is worth trying.\n",
            "-------------------------------------------------\n",
            "Cute interior and owner (?) gave us tour of upcoming patio/rooftop area which will be great on beautiful days like today. Cheese curds were very good and very filling. Really like that sandwiches come w salad, esp after eating too many curds! Had the onion, gruyere, tomato sandwich. Wasn't too much cheese which I liked. Needed something else...pepper jelly maybe. Would like to see more menu options added such as salads w fun cheeses. Lots of beer and wine as well as limited cocktails. Next time I will try one of the draft wines.\n",
            "++++++++++++++++++++++++++++++++++\n",
            "[{'label': 'POSITIVE', 'score': 0.9988715052604675}]\n",
            "GPT response:\n",
            "\n",
            "\n",
            "The interior of the restaurant is cute and the owner gave the customers a tour of the upcoming patio/rooftop area. The cheese curds were very good and filling. The customers liked that the sandwiches came with a salad, and they\n",
            "-------------------------------------------------\n"
          ]
        }
      ],
      "source": [
        "for index in range(5):\n",
        "    rev = review.loc[index, 'text']\n",
        "    print(rev)\n",
        "    print(\"++++++++++++++++++++++++++++++++++\")\n",
        "    print(sentiment_analysis(rev))\n",
        "    \n",
        "    summary = openai.Completion.create(\n",
        "        engine=\"text-davinci-002\",\n",
        "        prompt=f\"Summarize the following reviews: {rev}\",\n",
        "        temperature=0.5,\n",
        "        max_tokens=50\n",
        "    )\n",
        "    print(\"GPT response:\")\n",
        "    print(summary.choices[0].text)\n",
        "    print(\"-------------------------------------------------\")"
      ]
    },
    {
      "cell_type": "code",
      "execution_count": null,
      "id": "1f5bebc8",
      "metadata": {
        "id": "1f5bebc8"
      },
      "outputs": [],
      "source": []
    }
  ],
  "metadata": {
    "kernelspec": {
      "display_name": "Python 3 (ipykernel)",
      "language": "python",
      "name": "python3"
    },
    "language_info": {
      "codemirror_mode": {
        "name": "ipython",
        "version": 3
      },
      "file_extension": ".py",
      "mimetype": "text/x-python",
      "name": "python",
      "nbconvert_exporter": "python",
      "pygments_lexer": "ipython3",
      "version": "3.10.9"
    },
    "colab": {
      "provenance": []
    }
  },
  "nbformat": 4,
  "nbformat_minor": 5
}